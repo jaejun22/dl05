{
  "nbformat": 4,
  "nbformat_minor": 0,
  "metadata": {
    "colab": {
      "provenance": [],
      "authorship_tag": "ABX9TyPwD9TfevV/5PAkTe1fTLOt",
      "include_colab_link": true
    },
    "kernelspec": {
      "name": "python3",
      "display_name": "Python 3"
    },
    "language_info": {
      "name": "python"
    }
  },
  "cells": [
    {
      "cell_type": "markdown",
      "metadata": {
        "id": "view-in-github",
        "colab_type": "text"
      },
      "source": [
        "<a href=\"https://colab.research.google.com/github/jaejun22/dl05/blob/main/notebook/ch02_python.ipynb\" target=\"_parent\"><img src=\"https://colab.research.google.com/assets/colab-badge.svg\" alt=\"Open In Colab\"/></a>"
      ]
    },
    {
      "cell_type": "markdown",
      "source": [
        "# ch02_python.ipynb\n",
        "## dl05 \n",
        "- 파이썬 복습\n"
      ],
      "metadata": {
        "id": "iXHTv94dziIF"
      }
    },
    {
      "cell_type": "code",
      "source": [
        "# cap02 - python basics\n",
        "#\n",
        "3.14 * 10 * 10 \n",
        "\n",
        "3.14 * 10**2\n"
      ],
      "metadata": {
        "id": "3VkzO5KJ1F7q"
      },
      "execution_count": null,
      "outputs": []
    },
    {
      "cell_type": "code",
      "source": [
        "\n",
        "\n",
        "type(10)\n",
        "\n",
        "type(3.14)\n",
        "\n",
        "type(\"python\")\n"
      ],
      "metadata": {
        "id": "_NtLZB-E1MEQ"
      },
      "execution_count": null,
      "outputs": []
    },
    {
      "cell_type": "code",
      "source": [
        "\n",
        "\n",
        "r = 20\n",
        "\n",
        "PI = 3.14\t\t# 원주율 정의\n",
        "\n",
        "area = PI * r**2\n",
        "\n",
        "area\n"
      ],
      "metadata": {
        "id": "S3NCJc-G1NwM"
      },
      "execution_count": null,
      "outputs": []
    },
    {
      "cell_type": "code",
      "source": [
        "\n",
        "# list\n",
        "lst = [ 10, 20, 30, 40, 50]\t\t# 리스트 정의\n",
        "\n",
        "lst\n"
      ],
      "metadata": {
        "colab": {
          "base_uri": "https://localhost:8080/"
        },
        "id": "U_UJGthS1QPB",
        "outputId": "3e3b1fd6-bcf9-456f-f75c-99d770aec374"
      },
      "execution_count": null,
      "outputs": [
        {
          "output_type": "execute_result",
          "data": {
            "text/plain": [
              "[10, 20, 30, 40, 50]"
            ]
          },
          "metadata": {},
          "execution_count": 2
        }
      ]
    },
    {
      "cell_type": "code",
      "source": [
        "\n",
        "# indexing & slicing\n",
        "print(lst[2]) \t\t\t\t# 리스트의 요소 접근\n",
        "\n",
        "lst[2] = 90\t\t\t# 세 번째 요소를 90으로 변경\n",
        "\n",
        "print(lst)\n",
        "\n",
        "print(len(lst))\n",
        "\n",
        "lst, len(lst)\n"
      ],
      "metadata": {
        "colab": {
          "base_uri": "https://localhost:8080/"
        },
        "id": "MOohNj6L1TKR",
        "outputId": "7c1aa928-049d-4272-9672-144ebe2919cf"
      },
      "execution_count": null,
      "outputs": [
        {
          "output_type": "stream",
          "name": "stdout",
          "text": [
            "90\n",
            "[10, 20, 90, 40, 50]\n",
            "5\n"
          ]
        },
        {
          "output_type": "execute_result",
          "data": {
            "text/plain": [
              "([10, 20, 90, 40, 50], 5)"
            ]
          },
          "metadata": {},
          "execution_count": 6
        }
      ]
    },
    {
      "cell_type": "code",
      "source": [
        "\n",
        "lst[0:3]\n",
        "\n",
        "lst[2:]\t\n",
        "\n",
        "lst[:3]\n",
        "\n",
        "lst[:-1]\n"
      ],
      "metadata": {
        "colab": {
          "base_uri": "https://localhost:8080/"
        },
        "id": "Fkk51srJ1Wpp",
        "outputId": "875cac2c-bb91-4a92-d7e4-19fede56e459"
      },
      "execution_count": null,
      "outputs": [
        {
          "output_type": "execute_result",
          "data": {
            "text/plain": [
              "[10, 20, 90, 40]"
            ]
          },
          "metadata": {},
          "execution_count": 7
        }
      ]
    },
    {
      "cell_type": "code",
      "source": [
        "\n",
        "# dictionary\n",
        "car = { 'HP':200, 'make': \"BNW\" }\t# 딕셔너리 정의\n",
        "\n",
        "print(car['HP'])\n",
        "\n",
        "car['color'] = \"white\"\n",
        "\n",
        "car\n"
      ],
      "metadata": {
        "colab": {
          "base_uri": "https://localhost:8080/"
        },
        "id": "FRM6cPBI2FsR",
        "outputId": "1e4a39eb-1c25-417a-bca3-0f5fe9713ea9"
      },
      "execution_count": null,
      "outputs": [
        {
          "output_type": "stream",
          "name": "stdout",
          "text": [
            "200\n"
          ]
        },
        {
          "output_type": "execute_result",
          "data": {
            "text/plain": [
              "{'HP': 200, 'make': 'BNW', 'color': 'white'}"
            ]
          },
          "metadata": {},
          "execution_count": 13
        }
      ]
    },
    {
      "cell_type": "code",
      "source": [
        "car['color'] = \"white\"\n",
        "car"
      ],
      "metadata": {
        "colab": {
          "base_uri": "https://localhost:8080/"
        },
        "id": "JZlLA7pT2hBk",
        "outputId": "14cdeeec-68a9-444b-a5a3-20f49f631a3c"
      },
      "execution_count": null,
      "outputs": [
        {
          "output_type": "execute_result",
          "data": {
            "text/plain": [
              "{'HP': 200, 'make': 'BNW', 'color': 'white'}"
            ]
          },
          "metadata": {},
          "execution_count": 15
        }
      ]
    },
    {
      "cell_type": "code",
      "source": [
        "\n",
        "# Conditional\n",
        "temp = -10\n",
        "\n",
        "if temp < 0 :\n",
        "    print(\"영하입니다.\")\t\n",
        "else:\n",
        "    print(\"영상입니다.\")\n"
      ],
      "metadata": {
        "colab": {
          "base_uri": "https://localhost:8080/"
        },
        "id": "35SCCBQC2H7h",
        "outputId": "f41b5e13-7304-454d-d702-c40009899656"
      },
      "execution_count": null,
      "outputs": [
        {
          "output_type": "stream",
          "name": "stdout",
          "text": [
            "영하입니다.\n"
          ]
        }
      ]
    },
    {
      "cell_type": "code",
      "source": [],
      "metadata": {
        "id": "LlWivhv8FFAm"
      },
      "execution_count": null,
      "outputs": []
    },
    {
      "cell_type": "code",
      "source": [
        "\n",
        "# loop\n",
        "for i in [1, 2, 3, 4, 5] :\n",
        "    print(i)#, end=\" \")\n"
      ],
      "metadata": {
        "colab": {
          "base_uri": "https://localhost:8080/"
        },
        "id": "mmxrdZ_F2JQy",
        "outputId": "0f77f5b5-301a-48a1-e78e-044e0abf1c92"
      },
      "execution_count": null,
      "outputs": [
        {
          "output_type": "stream",
          "name": "stdout",
          "text": [
            "1\n",
            "2\n",
            "3\n",
            "4\n",
            "5\n"
          ]
        }
      ]
    },
    {
      "cell_type": "code",
      "source": [
        "\n",
        "# functio\n",
        "def sayHello():\n",
        "    print(\"Hello!\")\n",
        "\n",
        "sayHello()\n"
      ],
      "metadata": {
        "colab": {
          "base_uri": "https://localhost:8080/"
        },
        "id": "m1xDogsv2KKX",
        "outputId": "9fea6e2a-d1e1-4cae-f9d3-9f1737684881"
      },
      "execution_count": null,
      "outputs": [
        {
          "output_type": "stream",
          "name": "stdout",
          "text": [
            "Hello!\n"
          ]
        }
      ]
    },
    {
      "cell_type": "code",
      "source": [
        "\n",
        "# class\n",
        "class Person:\n",
        "  def __init__(self, name, age):\n",
        "    self.name = name\n",
        "    self.age = age\n",
        "\n",
        "  def sayHello(self):\n",
        "    print(\"Hello 나의 이름은 \" + self.name +\" 나이는 \" + str(self.age))\n",
        "\n",
        "p1 = Person(\"John\", 36)\n",
        "p1.sayHello()\n",
        "\n",
        "# [DIY] 이름과 나이를 다 출력하게 코드를 변경하시오.\n",
        "#################################################\n"
      ],
      "metadata": {
        "colab": {
          "base_uri": "https://localhost:8080/"
        },
        "id": "9JuJBH_h2LA_",
        "outputId": "8dd33349-1605-448a-c2d1-8abc318f2035"
      },
      "execution_count": null,
      "outputs": [
        {
          "output_type": "stream",
          "name": "stdout",
          "text": [
            "Hello 나의 이름은 John 나이는 36\n"
          ]
        }
      ]
    }
  ]
}